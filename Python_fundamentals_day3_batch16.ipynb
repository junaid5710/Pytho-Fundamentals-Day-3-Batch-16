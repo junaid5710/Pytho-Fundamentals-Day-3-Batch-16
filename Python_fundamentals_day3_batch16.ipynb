{
 "cells": [
  {
   "cell_type": "code",
   "execution_count": 3,
   "metadata": {},
   "outputs": [
    {
     "name": "stdout",
     "output_type": "stream",
     "text": [
      "bikesh kumar\n"
     ]
    }
   ],
   "source": [
    "first_name='bikesh'\n",
    "last_name='kumar'\n",
    "full_name=f'{first_name} {last_name}'\n",
    "print(full_name)"
   ]
  },
  {
   "cell_type": "code",
   "execution_count": 5,
   "metadata": {},
   "outputs": [
    {
     "name": "stdout",
     "output_type": "stream",
     "text": [
      "Bikesh Kumar\n"
     ]
    }
   ],
   "source": [
    "full_name=f'{first_name} {last_name}'\n",
    "print(full_name.title())"
   ]
  },
  {
   "cell_type": "code",
   "execution_count": 9,
   "metadata": {},
   "outputs": [
    {
     "name": "stdout",
     "output_type": "stream",
     "text": [
      "JUNAID KHAN\n"
     ]
    }
   ],
   "source": [
    "f_name=\"junaid\"\n",
    "l_name=\"khan\"\n",
    "full_name=f'{f_name} {l_name}'\n",
    "print(full_name.upper())"
   ]
  },
  {
   "cell_type": "code",
   "execution_count": 11,
   "metadata": {},
   "outputs": [
    {
     "name": "stdout",
     "output_type": "stream",
     "text": [
      "python java c c++\n"
     ]
    }
   ],
   "source": [
    "print('python','java','c','c++')"
   ]
  },
  {
   "cell_type": "code",
   "execution_count": 13,
   "metadata": {},
   "outputs": [
    {
     "name": "stdout",
     "output_type": "stream",
     "text": [
      "python \n",
      "java \n",
      "c \n",
      "c++\n"
     ]
    }
   ],
   "source": [
    "print('python','\\njava','\\nc','\\nc++')"
   ]
  },
  {
   "cell_type": "code",
   "execution_count": 16,
   "metadata": {},
   "outputs": [
    {
     "name": "stdout",
     "output_type": "stream",
     "text": [
      "My favourite languages are \n",
      "python \n",
      "java \n",
      "c \n",
      "c++\n"
     ]
    }
   ],
   "source": [
    "print('My favourite languages are','\\npython','\\njava','\\nc','\\nc++')"
   ]
  },
  {
   "cell_type": "code",
   "execution_count": null,
   "metadata": {},
   "outputs": [],
   "source": []
  },
  {
   "cell_type": "code",
   "execution_count": null,
   "metadata": {},
   "outputs": [],
   "source": []
  }
 ],
 "metadata": {
  "kernelspec": {
   "display_name": "Python 3",
   "language": "python",
   "name": "python3"
  },
  "language_info": {
   "codemirror_mode": {
    "name": "ipython",
    "version": 3
   },
   "file_extension": ".py",
   "mimetype": "text/x-python",
   "name": "python",
   "nbconvert_exporter": "python",
   "pygments_lexer": "ipython3",
   "version": "3.7.6"
  }
 },
 "nbformat": 4,
 "nbformat_minor": 4
}
